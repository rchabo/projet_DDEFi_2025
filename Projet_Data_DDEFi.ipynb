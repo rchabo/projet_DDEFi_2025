{
  "nbformat": 4,
  "nbformat_minor": 0,
  "metadata": {
    "colab": {
      "provenance": [],
      "include_colab_link": true
    },
    "kernelspec": {
      "name": "python3",
      "display_name": "Python 3"
    },
    "language_info": {
      "name": "python"
    }
  },
  "cells": [
    {
      "cell_type": "markdown",
      "metadata": {
        "id": "view-in-github",
        "colab_type": "text"
      },
      "source": [
        "<a href=\"https://colab.research.google.com/github/rchabo/projet_DDEFi_2025/blob/main/Projet_Data_DDEFi.ipynb\" target=\"_parent\"><img src=\"https://colab.research.google.com/assets/colab-badge.svg\" alt=\"Open In Colab\"/></a>"
      ]
    },
    {
      "cell_type": "code",
      "source": [],
      "metadata": {
        "id": "n_FdZnIX20uC"
      },
      "execution_count": null,
      "outputs": []
    },
    {
      "cell_type": "markdown",
      "source": [
        "Définir une problématique business :\n",
        "\n",
        "Choisissez un dataset ou une API et identifiez une problématique qui a du sens pour une entreprise.Définissez clairement pourquoi cette problématique est importante et comment elle s'inscrit dans une stratégie business."
      ],
      "metadata": {
        "id": "gEfBZ3942I_G"
      }
    }
  ]
}